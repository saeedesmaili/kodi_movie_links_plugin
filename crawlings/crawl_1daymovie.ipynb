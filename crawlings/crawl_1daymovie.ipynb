{
 "cells": [
  {
   "cell_type": "code",
   "execution_count": 1,
   "metadata": {
    "ExecuteTime": {
     "end_time": "2020-01-21T11:23:43.995586Z",
     "start_time": "2020-01-21T11:23:43.889654Z"
    }
   },
   "outputs": [],
   "source": [
    "import requests\n",
    "from bs4 import BeautifulSoup\n",
    "import re\n",
    "import config"
   ]
  },
  {
   "cell_type": "code",
   "execution_count": 51,
   "metadata": {
    "ExecuteTime": {
     "end_time": "2020-01-22T09:41:32.676812Z",
     "start_time": "2020-01-22T09:41:27.987029Z"
    }
   },
   "outputs": [
    {
     "name": "stdout",
     "output_type": "stream",
     "text": [
      "200\n"
     ]
    }
   ],
   "source": [
    "# login and get cookie\n",
    "\n",
    "s = requests.Session()\n",
    "s.get(\"http://1daymovie.org/\")\n",
    "\n",
    "url = \"http://1daymovie.org/login\"\n",
    "\n",
    "querystring = {\"iToken\":config.DAYMOVIE_ITOKEN}\n",
    "\n",
    "payload = config.DAYMOVIE_PAYLOAD\n",
    "s.headers.update({\n",
    "    'User-Agent': \"Mozilla/5.0 (X11; Ubuntu; Linux x86_64; rv:72.0) Gecko/20100101 Firefox/72.0\",\n",
    "    'Accept': \"text/html,application/xhtml+xml,application/xml;q=0.9,image/webp,*/*;q=0.8\",\n",
    "    'Accept-Language': \"en-US,en;q=0.5\",\n",
    "    'Content-Type': \"application/x-www-form-urlencoded\",\n",
    "    'Origin': \"http://1daymovie.org\",\n",
    "    'Connection': \"keep-alive\",\n",
    "    'Referer': \"http://1daymovie.org/login\",\n",
    "    'Upgrade-Insecure-Requests': \"1\",\n",
    "    'Cache-Control': \"no-cache\",\n",
    "    'Accept-Encoding': \"gzip, deflate\",\n",
    "    'cache-control': \"no-cache\"\n",
    "})\n",
    "headers = {\n",
    "    'User-Agent': \"Mozilla/5.0 (X11; Ubuntu; Linux x86_64; rv:72.0) Gecko/20100101 Firefox/72.0\",\n",
    "    'Accept': \"text/html,application/xhtml+xml,application/xml;q=0.9,image/webp,*/*;q=0.8\",\n",
    "    'Accept-Language': \"en-US,en;q=0.5\",\n",
    "    'Content-Type': \"application/x-www-form-urlencoded\",\n",
    "    'Origin': \"http://1daymovie.org\",\n",
    "    'Connection': \"keep-alive\",\n",
    "    'Referer': \"http://1daymovie.org/login\",\n",
    "    'Upgrade-Insecure-Requests': \"1\",\n",
    "    'Cache-Control': \"no-cache\",\n",
    "    'Accept-Encoding': \"gzip, deflate\",\n",
    "    'cache-control': \"no-cache\"\n",
    "    }\n",
    "\n",
    "response = s.post(url, data=payload, params=querystring)\n",
    "\n",
    "print(response.status_code)"
   ]
  },
  {
   "cell_type": "code",
   "execution_count": 52,
   "metadata": {
    "ExecuteTime": {
     "end_time": "2020-01-22T09:41:34.506180Z",
     "start_time": "2020-01-22T09:41:34.502556Z"
    }
   },
   "outputs": [
    {
     "data": {
      "text/plain": [
       "{'User-Agent': 'Mozilla/5.0 (X11; Ubuntu; Linux x86_64; rv:72.0) Gecko/20100101 Firefox/72.0', 'Accept-Encoding': 'gzip, deflate', 'Accept': 'text/html,application/xhtml+xml,application/xml;q=0.9,image/webp,*/*;q=0.8', 'Connection': 'keep-alive', 'Accept-Language': 'en-US,en;q=0.5', 'Content-Type': 'application/x-www-form-urlencoded', 'Origin': 'http://1daymovie.org', 'Referer': 'http://1daymovie.org/login', 'Upgrade-Insecure-Requests': '1', 'cache-control': 'no-cache'}"
      ]
     },
     "execution_count": 52,
     "metadata": {},
     "output_type": "execute_result"
    }
   ],
   "source": [
    "s.headers"
   ]
  },
  {
   "cell_type": "code",
   "execution_count": 53,
   "metadata": {
    "ExecuteTime": {
     "end_time": "2020-01-22T09:41:38.471024Z",
     "start_time": "2020-01-22T09:41:38.461055Z"
    }
   },
   "outputs": [
    {
     "data": {
      "text/plain": [
       "'\\n<!DOCTYPE html>\\n<html lang=\"fa\">\\n<head><meta http-equiv=\"Content-Type\" content=\"text/html; charset=utf-8\">\\n        \\n        <link rel=\"SHORTCUT ICON\" href=\"favicon.ico\">\\n        <title>پنل کاربری  DayMovie #رسانه اینترنتی دی مووی#</title>\\n    \\t<meta name=\"description\" content=\\'\\' />\\n    \\t<meta name=\"keywords\" content=\\'\\' />\\n        <link href=\"/css/style.css?id=1483100338\" rel=\"stylesheet\" type=\"text/css\"  />\\n                <link href=\"/css/panel.css?id=1483100338\" rel=\"stylesheet\" type=\"text/css\"  />\\n        <link href=\"/css/font-awesome.min.css?id=1483100338\" rel=\"stylesheet\" />\\n        <link href=\"/css/media.css?id=1483100338\" rel=\"stylesheet\" type=\"text/css\"/>\\n\\t<script src=\"/js/jquery-1.12.2.min.js?id=1483100338\"></script>\\n        <!--[if lt IE 9]>\\n            window.location = \"http://browsehappy.com/\";\\n        <![endif]-->\\n</head>\\n<body>\\n\\n  \\n<header><meta http-equiv=\"Content-Type\" content=\"text/html; charset=utf-8\">\\n    <link rel=\"shortcut icon\" href=\"/fav.ico\" type=\"image/x-icon\" />\\n        <div class=\"topribbon\">\\n            <div class=\"center rel\">\\n                <div class=\"logo\">\\n                    <a href=\"/\">\\n                        <img src=\"/images/logod.png\" width=\"200\" height=\"120\" alt=\"دی مووی\" />\\n                    </a>\\n                </div>\\n                <ul class=\"topuserlinks\" data-step=\"1\" data-intro=\"این قسمت شما میتونید درخواست های دنبال کردن رو مشاهده کنید.\\n                    <br/>\\n                    درواقع شما با مراجعه به پروفایل هرکابر میتونید دنبالش کنید و از نقد و نظرات یا امتیازاتش آگاه بشید.\\n                    <br/>\\n                    وقتی شما وارد فیلمی میشید،اگر یکی از دنبال شونده ها امتیاز داده باشه به اون،شما میتونید ببینید امتیازش رو.\\n                    <br/>\\n                    --\\n                    <br/>\\n                    همینطور شما میتونید فیلم و سریال هارو دنبال کنید تا از تغییرات و آپدیت های اون آگاه بشید.\\n                    برای این کار فقط باید روی ایکون زنگوله یا همون ناقوص توی صفحه فیلم یا سریال کلیک کنید تا از تغییراتش آگاه بشید.\\n                    \">\\n                                \\n                    <li class=\"tguser\">\\n                        <a href=\"#\"><img src=\"/user-upload/avatars/112/no-image.jpg\" width=\"36\" height=\"36\" alt=\"\" /></a>\\n                        <ul class=\"dropdown dropUser\">\\n                            \\n                           \\n                        <li><a href=\"/user\" ><i class=\"fa fa-home\"></i>پنل کاربری</a></li>\\n                        \\n                         <li><a href=\"/page/aliiiz\" ><i class=\"fa fa-user\"></i>پروفایل</a></li>                      \\n                        <li><a href=\"/user/services/order\" ><i class=\"fa fa-cart-plus\"></i>خرید سرویس</a></li>\\n                        \\n                         <li ><a href=\"/user/social/downloads?action=movie\"><i class=\"fa fa-film\"></i>لیست دانلود فیلم ها</a></li>\\n                         <li ><a href=\"/user/social/downloads?action=tvshow\"><i class=\"fa fa-video-camera\"></i>لیست دانلود سریال ها</a></li>\\n                         \\n                         \\n                         \\n                        <li><a href=\"/user/request/new\" ><i class=\"fa fa-film\"></i>درخواست فیلم و سریال</a></li>\\n                        \\n                         <li><a href=\"/user/profile\"><i class=\"fa fa-pencil-square-o\"></i> ویرایش اطلاعات کاربری</a></li>  \\n                        <li><a href=\"/site/logout\" data-method=\"post\"><i class=\"fa fa-sign-out\"></i> خروج  از حساب کاربری</a></li>\\n                       \\n                        </ul>\\n                    </li>\\n                    \\n                    <li class=\"msgnum\" >\\n                        <a href=\"#\"><i class=\"fa fa-user-plus\"></i><span>0</span></a>\\n                        <ul class=\"dropdown dropMsg\">\\n                                                    <li class=\"moreitems\">\\n                                <a href=\"/user/social/followers\"><i class=\"fa fa-angle-double-left\"></i> بیشتر</a>\\n                            </li>\\n                        </ul>\\n                    </li>\\n                    \\n                    <li class=\"notinum\">\\n                        <a href=\"#\"><i class=\"fa fa-bell\"></i><span>0</span></a>\\n                        <ul class=\"dropdown dropMsg\">\\n                        \\n                                                   <li class=\"moreitems\">\\n                                <a href=\"/user/social/inbox\"><i class=\"fa fa-angle-double-left\"></i> بیشتر</a>\\n                            </li>\\n                        </ul>\\n                    </li>\\n                    \\n                    \\n                \\n                                </ul>  \\n                <div class=\"searchbox\" data-step=\"2\" data-intro=\"اسم فیلم یا سریال مورد نظر رو بنویسید و منتظر باشید تا نتایج بیاد. شما میتونید با تغییر همه در سمت راست جستجو،نتایج دقیقتری پیدا کنید. حتی میتونید بازیگران مورد علاقه رو هم جستجو کنید.\">\\n                    <input id=\"txtsearch\" type=\"text\" class=\"txtsearch\" placeholder=\"Search...\" />\\n                    <input id=\"btnsearch\" type=\"button\" value=\"&#xf002;\" class=\"btnsearch\" />\\n                    <div class=\"searchoptions\">\\n                        <a href=\"#\" class=\"srchopt\"><span>همه</span> <i class=\"fa fa-chevron-down\"></i></a>\\n                        <ul class=\"searchPlaces\">\\n                        \\t\\n                            <li><a href=\"\" data-id=\"-1\">همه</a></li>\\n                            <li><a href=\"\" data-id=\"1\">فیلم</a></li>\\n                            <li><a href=\"\" data-id=\"2\">سریال</a></li>\\n                            <li><a href=\"\" data-id=\"3\">هنرمندان</a></li>\\n                        </ul>\\n                        <input class=\"searchopt\"   type=\"hidden\" value=\"-1\" />\\n                    </div>\\n                    <div class=\"suggestbox\">\\n                       \\n                        \\n                        \\n                    </div>\\n                    <div class=\"clear\"></div>\\n                </div>\\n                <ul class=\"hsocials\" data-step=\"3\" data-intro=\"\\n                    لینک های ما در شبکه های اجتماعی. حتما عضو بشید تا از آخرین اخبار روز سینما،هنرمندان و آدرس های جدید سایت آگاه بشید.\\n                    <br/>\\n                     تخفیف های ویژه نایت مووی رو هم از دست ندید.                    \\n                    \">\\n                    <li><a href=\"https://www.facebook.com/NightMovie.Net\"><i class=\"fa fa-facebook\"></i></a></li>\\n                    <li><a href=\"https://twitter.com/NightMovie_Tv\"><i class=\"fa fa-twitter\"></i></a></li>\\n                    <li><a href=\"https://www.instagram.com/nightmovie_tv\"><i class=\"fa fa-instagram\"></i></a></li>\\n                    <li><a href=\"https://telegram.me/NightMovie_Tv\"><i class=\"fa fa-send\"></i></a></li>\\n                </ul>\\n            </div>\\n        </div>\\n        <div class=\"secondrebbon\">\\n            <div class=\"center\">\\n                <nav class=\"navigation\" data-step=\"4\" data-intro=\"در این قسمت میتونید دسترسی سریع داشته باشید به بخش های هیجان انگیز سایت.                     \\n                     \">\\n                    <ul class=\"topmenu\">\\n                        <li><a href=\"/movies\"><i class=\"fa fa-home\"></i> صفحه نخست <span>MAIN PAGE</span></a></li>\\n                        <li class=\"hasSub\"  data-step=\"4\" data-intro=\"\\n                     منو فیلم که میتونید با اون به فیلتر های برتر سال های اخیر،جوایز بین المللی،لیست های معتبر دنیا و غیره دسترسی داشته باشید.\\n                     <br/>\">\\n                            <a href=\"\" onclick=\"return false;\"><i class=\"fa fa-film\"></i> فیلم <span>movie</span></a>\\n                            <div class=\"submenu\">\\n                                <div class=\"sublinks\">\\n                                    <h4>فیلم ها:</h4>\\n                                    <ul class=\"sublinklist\">\\n                                   \\t    <li><a href=\"/movies\">همه فیلم ها</a></li>\\n                                   \\t    <li><a href=\"/movies?order=6\">پربازدیدترین فیلم ها</a></li>\\n                                   \\t    <li><a href=\"/movies?order=8\">فیلم های برتر کاربران</a></li>\\n                                        <li><a href=\"/boxoffice\">جدول باکس آفیس</a></li>\\n                                        <li><a href=\"/movies?cooming_soon=1\">فیلم های به زودی</a></li>\\n                                    </ul>\\n                                </div>\\n                                <div class=\"sublinks\">\\n                                    <h4>ویژه ها:</h4>\\n                                    <ul class=\"sublinklist\">\\n                                        <li><a href=\"/list/1\">250 فیلم برتر تاریخ</a></li>\\n                                        <li><a href=\"/list/2\">فیلم های برتر قرن 21</a></li>\\n                                        <li><a href=\"/list/174\">برترین فیلم های اسکار</a></li>\\n                                   \\t    <li><a href=\"/movies?order=5\">فیلم های برتر منتقدین</a></li>\\n                                        <li><a href=\"/list/3\">250 فیلم برتر هندی</a></li>\\n                                    </ul>\\n                                </div>  \\n                                <div class=\"clear\"></div>\\n                                <div class=\"sublinks\">\\n                                    <h4>جوایز:</h4>\\n                                    <ul class=\"sublinklist\">\\n                                        <li><a href=\"/events/oscar\">آرشیو اسکار</a></li>\\n                                        <li><a href=\"/events/golden-globe\">آرشیو گلدن گلوب</a></li>\\n                                        <li><a href=\"/events/bafta\">آرشیو بفتا</a></li>\\n                                    </ul>\\n                                </div>\\n                                <div class=\"sublinks\">\\n                                    <h4>برترین ها:</h4>\\n                                    <ul class=\"sublinklist\">\\n                                        <li><a href=\"/movies?order=4&from=2020&to=2020\">برترین های 2020</a></li>                                        \\n                                        <li><a href=\"/movies?order=4&from=2019&to=2019\">برترین های 2019</a></li>  \\n                                        <li><a href=\"/movies?order=4&from=2018&to=2018\">برترین های 2018</a></li>\\n                                        <li><a href=\"/movies?order=4&from=2017&to=2017\">برترین های 2017</a></li>\\n                                        <li><a href=\"/movies?order=4&from=2016&to=2016\">برترین های 2016</a></li>      \\n                                    </ul>\\n                                </div>\\n                                                             \\n                                            \\n                                <figure>\\n                                                                    <a href=\"/movie/tt1615160\">\\n                                        <img src=\"/Head/380/TF.jpg\" width=\"380\" height=\"380\" alt=\"The Foreigner\" />\\n                                        <span>\\n                                            <span class=\"subIntroName\">The Foreigner (2017)</span>\\n                                            <span class=\"subIntroDetail\">\\n                                                Rate: 7.1 / 10\\n                                            </span>\\n                                        </span>\\n                                    </a>\\n                                </figure>\\n                            </div>\\n                        </li>\\n                        <li class=\"hasSub\"  data-step=\"5\" data-intro=\"\\n                 منو سریال که میتونید با اون،دسترسی سریع داشته باشید به سریال های درحال پخش در روزهای مختلف هفته.\\n                 <br/>\\n                 دسترسی به لیست های معتبر دنیا که میتونه به شما در پیدا کردن سریال های برتر کمک بکنه.\\n                 <br/>\\n                 اگرم اهل منتظر موندن سریال نیستید. میتونید سریال های به اتمام رسیده رو شروع کنید.\\n                     \">\\n                            <a href=\"\" onclick=\"return false;\"><i class=\"fa fa-video-camera\"></i> سریال <span>Serial</span></a>\\n                            <div class=\"submenu\">\\n                                <div class=\"sublinks\">\\n                                    <h4>سریال ها:</h4>\\n                                    <ul class=\"sublinklist\">\\n                                        <li><a href=\"/tvshow\">همه سریال ها</a></li>\\n                                        <li><a href=\"/tvshow?order=1&country=13\">ایرانی</a></li>\\n                                        <li><a href=\"/tvshow?order=1&country=9\">آسیایی</a></li>\\n                                        <li><a href=\"/tvshow?order=1&country=6\">انیمه</a></li>\\n                                    </ul>\\n                                </div>\\n                                <div class=\"sublinks\">\\n                                    <h4>وضعیت پخش:</h4>\\n                                    <ul class=\"sublinklist\">\\n                                        <li><a href=\"/tvshow?status=1&order=1\">در حال پخش</a></li>\\n                                        <li><a href=\"/tvshow?status=2&order=3\">به پایان رسیده</a></li>\\n                                        <li><a href=\"/tvshow?status=4&order=3\">تمدید شده</a></li>\\n                                        <li><a href=\"/tvshow?status=3&order=3\">کنسل شده</a></li>\\n                                    </ul>\\n                                </div>                                \\n                                <div class=\"sublinks\">  \\n                                    <h4>ویژه ها:</h4>\\n                                    <ul class=\"sublinklist\">\\n                                        <li><a href=\"/tvshow?order=4&from=2016&to=2017\">منتخب های جدید</a></li>\\n                                        <li><a href=\"/list/8\">250 سریال برتر تاریخ</a></li>\\n                                        <li><a href=\"/tvshow?order=4&from=2000&to=2017\">برترین های قرن 21</a></li>\\n                                        <li><a href=\"/tvshow?order=5\">پربازدیدترین سریال ها</a></li>\\n                                        <li><a href=\"/tvshow?order=6\">سریال های برتر کاربران</a></li>\\n                                        <li><a href=\"/user/events/index?event=emmy\">لیست جوایز امی</a></li>                                                                                    \\n                                        \\n                                    </ul>\\n                                </div>\\n                                <div class=\"sublinks\">\\n                                    <h4>روزهای هفته:</h4>\\n                                    <ul class=\"sublinklist\">\\n                                        <li><a href=\"/tvshow?day=7&status=1\">شنبه ها</a></li>\\n                                        <li><a href=\"/tvshow?day=1&status=1\">یک شنبه ها</a></li>  \\n                                        <li><a href=\"/tvshow?day=2&status=1\">دو شنبه ها</a></li>  \\n                                        <li><a href=\"/tvshow?day=3&status=1\">سه شنبه ها</a></li>  \\n                                        <li><a href=\"/tvshow?day=4&status=1\">چهار شنبه ها</a></li>  \\n                                        <li><a href=\"/tvshow?day=5&status=1\">پنج شنبه ها</a></li>  \\n                                        <li><a href=\"/tvshow?day=6&status=1\">جمعه ها</a></li>                                          \\n                                    </ul>\\n                                </div>\\n                                <div class=\"clear\"></div>\\n                                \\n                                 \\n                                <figure>\\n                                                                 \\n                                    <a href=\"/tvshow/tt6045840\">\\n                                       <img src=\"/Head/380/BL.jpg\" width=\"380\" height=\"380\" alt=\"Black Lightning\" />\\n                                        <span>\\n                                            <span class=\"subIntroName\">Black Lightning (2018–)</span>\\n                                            <span class=\"subIntroDetail\">\\n                                              Rate: 8.1 / 10\\n                                            </span>\\n                                        </span>\\n                                    </a>\\n                                </figure>\\n                            </div>\\n                        </li>\\n                        <li class=\"hasSub\"  data-step=\"6\" data-intro=\"منو هنرمندان که میتونید با اون به لیستی از هنرمندان برتر دنیا دسترسی داشته باشید.\\n                            <br/>\\n                            هر هنرمند دارای یک پروفایل شخصی در سایت نایت مووی هست. که میتونید دنبالش کنید و از فیلم و سریال های جدیدش با خبر بشید!\\n                            \">\\n                        <a href=\"\" onclick=\"return false;\">\\n                        <i class=\"fa fa-user-secret\"></i> هنرمندان <span>artists</span></a>\\n                        <div class=\"submenuType2\">\\n                                \\n                                <div class=\"sublinks\">\\n                                    <h4>هنرمندان مرد:</h4>\\n                                    <ul class=\"sublinklist\">\\n                                        <li><a href=\"/people/male/director\">کارگردان ها</a></li>  \\n                                        <li><a href=\"/people/male/writer\">نویسنده ها</a></li>  \\n                                        <li><a href=\"/people/male/actor\">بازیگر ها</a></li>                                          \\n                                    </ul>\\n                                </div>\\n                                <div class=\"sublinks\">\\n                                    <h4>هنرمندان زن:</h4>\\n                                    <ul class=\"sublinklist\">\\n                                        <li><a href=\"/people/famle/director\">کارگردان ها</a></li>  \\n                                        <li><a href=\"/people/famle/writer\">نویسنده ها</a></li>  \\n                                        <li><a href=\"/people/famle/actress\">بازیگر ها</a></li>                                          \\n                                    </ul>\\n                                </div>\\n                                <div class=\"clear\"></div>\\n                                \\n                                \\n                                <figure>\\n                                    <a href=\"/people/1166\">\\n                                        <img src=\"/upload/people/ES.jpg\" alt=\"Amber Heard\" width=\"215\" height=\"380\">\\n                                        <span>\\n                                            <span class=\"subIntroName\">Emma Stone</span>\\n                                            <span class=\"subIntroDetail\">\\n                                           موسیقی متن ، بازیگر زن ، تهیه کننده\\n                                            </span>\\n                                        </span>\\n                                    </a>\\n                                </figure>\\n                            </div>\\n                         \\n                        </li>\\n                        <li data-step=\"7\" data-intro=\"\\n                            منو تریلر ها که میتونید آخرین تریلر های فیلم و سریال های روز دنیا رو در اون تماشا کنید.\\n                            \"><a href=\"/trailer/movie\"><i class=\"fa fa-file-video-o\"></i> تریلر ها <span>Trailers</span></a></li>                        \\n                        <li data-step=\"8\" data-intro=\"\\n                           اگر مشکلی دارید،بدون نگرانی کافیه به بخش پشتیبانی تیکت بزنید! در کمترین زمان ممکن،مشکل شما حل میشه!\\n                            \"><a href=\"\\n                        /user/support/new                        \"><i class=\"fa fa-envelope\"></i> تماس با ما <span>Contact Us</span></a></li>\\n                    </ul>\\n                </nav>\\n            </div>\\n        </div>\\n    </header>\\n<script>\\r\\n  (function(i,s,o,g,r,a,m){i[\\'GoogleAnalyticsObject\\']=r;i[r]=i[r]||function(){\\r\\n  (i[r].q=i[r].q||[]).push(arguments)},i[r].l=1*new Date();a=s.createElement(o),\\r\\n  m=s.getElementsByTagName(o)[0];a.async=1;a.src=g;m.parentNode.insertBefore(a,m)\\r\\n  })(window,document,\\'script\\',\\'https://www.google-analytics.com/analytics.js\\',\\'ga\\');\\r\\n\\r\\n  ga(\\'create\\', \\'UA-89405564-1\\', \\'auto\\');\\r\\n  ga(\\'send\\', \\'pageview\\');\\r\\n\\r\\n</script>\\n    \\n\\n    <div class=\"space30\"></div>\\n        <div class=\"center\">\\n            <aside class=\"isidebar\">\\n                <div class=\"sbox\">\\n                    <ul class=\"sidemenu\">\\n                        <li class=\"active\"><a href=\"/user\"><i class=\"fa fa-home\"></i>داشبورد</a></li>\\n                        <li ><a href=\"/user/social/inbox\"><i class=\"fa fa-inbox\"></i>مرکز پیام</a></li>\\n                        <li><a href=\"/page/aliiiz\"><i class=\"fa fa-user\"></i>مشاهده پروفایل</a></li>\\n                        \\n                        <li ><a href=\"/user/services/order\"><i class=\"fa fa-cart-plus\"></i>خرید سرویس</a></li>\\n                        <li ><a href=\"/user/services\"><i class=\"fa fa-list\"></i>لیست و مدیریت سرویس ها</a></li>\\n                        <li ><a href=\"/user/transactions\"><i class=\"fa fa-money\"></i>لیست و مدیریت تراکنش ها</a></li>\\n                        <li ><a href=\"/user/profile\"><i class=\"fa fa-pencil-square-o\"></i> ویرایش اطلاعات کاربری</a></li>\\n                    </ul>\\n\\n\\n<ul class=\"sidemenu\" style=\"margin-bottom: 0px;margin-top: 50px\">\\n<li ><a href=\"/user/social/followers\"><i class=\"fa fa-user-plus\"></i> دنبال کنندگان <span>\\n                        0                        </span></a></li>\\n                        \\n                        <li ><a href=\"/user/social/following\"><i class=\"fa fa-user\"></i> دنبال شونده ها \\n                        <span>\\n                        0                        </span>\\n                        </a></li>\\n                        </ul>\\n\\t\\t\\t\\t\\t<ul class=\"sidemenutoggle\" style=\"margin-bottom: 0px;margin-top: 50px\">\\n                    \\t\\n                        <li ><a style=\"cursor: pointer;\">\\n                        <i class=\"fa fa-download\"></i> لیست دانلود\\n                        <span>\\n                        0                        </span>\\n                        </a>\\n                        \\n                        <ul class=\"isubmenu\" style=\"display:none\">\\n                        <li ><a href=\"/user/social/downloads?action=movie\"><i class=\"fa fa-film\"></i>فیلم ها\\n                         <span>\\n                        0                        </span>\\n                        </a></li>\\n                         <li ><a href=\"/user/social/downloads?action=tvshow\"><i class=\"fa fa-video-camera\"></i>سریال ها\\n                         <span>\\n                        0                        </span>\\n                         </a></li>\\n                         \\n                        </ul>\\n                            \\n                        </li>\\n                    \\t<li>\\n                    \\t<a style=\"cursor: pointer;\"><i class=\"fa fa-bell\"></i> لیست اطلاع رسانی\\n                    \\t\\n                    \\t\\n                    \\t<span>\\n                        2                        </span>\\n                    \\t\\n                    \\t</a>\\n                    \\t<ul class=\"isubmenu\" style=\"display:none\">\\n                    \\t <li ><a href=\"/user/social/notifications?action=movie\"><i class=\"fa fa-film\"></i>فیلم ها\\n                    \\t \\n                    \\t<span>\\n                        1                        </span>\\n                    \\t </a></li>\\n                         <li ><a href=\"/user/social/notifications?action=tvshow\"><i class=\"fa fa-video-camera\"></i>سریال ها\\n                         <span>\\n                        0                        </span>\\n                         </a></li>\\n                         <li ><a href=\"/user/social/notifications?action=artist\"><i class=\"fa fa-user-secret\"></i>هنرمندان\\n                         <span>\\n                        1                        </span>\\n                         </a></li>\\n                         </ul>\\n                    \\t</li>\\n                    \\t\\n                    \\t\\n                    \\t<li ><a \\n                    \\tstyle=\"cursor: pointer;\"><i class=\"fa fa-list\"></i>لیست ها</a>\\n                    \\t\\n                    \\t<ul class=\"isubmenu\" style=\"display:none\">\\n                    \\t<li ><a href=\"/user/social/list\"><i class=\"fa fa-plus\"></i>ساخت لیست جدید</a></li>\\n                    \\t <li ><a href=\"/user/social/lists?type=1\"><i class=\"fa fa-film\"></i>لیست فیلم</a></li>\\n                         <li ><a href=\"/user/social/lists?type=2\"><i class=\"fa fa-video-camera\"></i>لیست سریال</a></li>\\n                         <li ><a href=\"/user/social/lists?type=3\"><i class=\"fa fa-user-secret\"></i>لیست افراد</a></li>\\n                    \\t</ul>\\n                    \\t</li>\\n                    </ul>\\n                    <ul class=\"sidemenutoggle\">\\n                        \\n                        <li>\\n                                                        <a href=\"\"><i class=\"fa fa-rocket\"></i> درخواست ها <span>2</span></a>\\n                            <ul class=\"isubmenu\">\\n                                <li><a href=\"/user/request/new\"><i class=\"fa fa-send\"></i> درخواست فیلم و سریال</a></li>\\n                                <li>\\n                                    <a href=\"/user/requests?t=0\"><i class=\"fa fa-film\"></i> لیست درخواست های فیلم <span>2</span></a>                                    \\n                                </li>\\n                                <li>\\n                                    <a href=\"/user/requests?t=1\"><i class=\"fa fa-video-camera\"></i> لیست درخواست های سریال <span>0</span></a>                                    \\n                                </li>\\n                            </ul>\\n                        </li>\\n                        \\n                        <li>\\n                            <a href=\"\"><i class=\"fa fa-life-ring\"></i> پشتیبانی ها <span>2</span></a>\\n                            <ul class=\"isubmenu\">\\n                                <li><a href=\"/user/support/create\"><i class=\"fa fa-send\"></i> درخواست پشتیبانی</a></li>\\n                                <li><a href=\"/user/support/index\"><i class=\"fa fa-ticket\"></i> لیست و مدیریت پشتیبانی ها</a></li>\\n                            </ul>\\n                        </li>\\n                    </ul>\\n                    \\n                </div>\\n            </aside>\\n            <article class=\"ilcontent\">\\n                                 <div class=\"alert\">\\n                    <strong>توجه!</strong> شما برای خود نام مستعاری تعیین نکرده ایید. برای تعیین <a href=\"/user/profile\">کلیک</a> کنید                </div>\\n                               <div class=\"alert greenlabel\">\\n                    <strong>توجه!</strong>  برای اطلاع از جدیدترین آدرس سایت، نرم افزار آدرس یاب را دانلود کرده و اجرا کنید. <a href=\"http://free.kingupload.net/NightMovie-Address.zip\">برای دانلود کلیک  کنید</a></div>\\n <ul class=\"statlist\">\\n                    <li>\\n                        <div class=\"statbox color1\">\\n                            <a href=\"/user/services\">\\n                                <i class=\"fa fa-cart-plus\"></i>\\n                                <span class=\"num\">1</span>\\n                                <span class=\"sttitle\"> سرویس فعال</span>\\n                                <span class=\"stshort\"><i class=\"fa fa-arrow-circle-o-left\"></i> سرویس های بیشتر</span>\\n                            </a>\\n                        </div>\\n                    </li>\\n                    \\n                    <li>\\n                        <div class=\"statbox color3\">\\n                            <a href=\"/user/social/followers\">\\n                                <i class=\"fa fa-user-plus\"></i>\\n                                <span class=\"num\">0</span>\\n                                <span class=\"sttitle\">دنبال کنندگان شما</span>\\n                                <span class=\"stshort\"><i class=\"fa fa-arrow-circle-o-left\"></i>لیست دنبال کنندگان</span>\\n                            </a>\\n                        </div>\\n                    </li>\\n                    <li>\\n                        <div class=\"statbox color4\"> \\n                            <a href=\"/user/social/following\">\\n                                <i class=\"fa fa-user\"></i>\\n                                <span class=\"num\">0</span>\\n                                <span class=\"sttitle\">دنبال شونده ها</span>\\n                                <span class=\"stshort\"><i class=\"fa fa-arrow-circle-o-left\"></i>لیست دنبال شونده ها</span>\\n                            </a>\\n                        </div>\\n                    </li>\\n                     \\n                    <li>\\n                        <div class=\"statbox color2\">\\n                            <a href=\"/user/support/create\">\\n                                <i class=\"fa fa-life-ring\"></i>\\n                                <span class=\"num\">2</span>\\n                                <span class=\"sttitle\">درخواست های پشتیبانی</span>\\n                                <span class=\"stshort\"><i class=\"fa fa-arrow-circle-o-left\"></i> دریافت پشتیبانی</span>\\n                            </a>\\n                        </div>\\n                    </li>\\n                </ul>\\n                <div class=\"clear\"></div>\\n                <div class=\"attn\">\\n                    <strong>توجه توجه !!!!</strong>\\n            با لینک زیر از دوستان خود دعوت کنید تا به جمع نایت مووی ها بپیوندند و با خرید از ما ، یک سرویس 10 روزه هدیه بگیرید! \\n            <br/>\\nاین لینک را می توانید در وبلاگ، کانال، گروه تلگرام و جاهای دیگر قرار داده  و به ازای هر فرد دعوت شده ، 10 روز هدیه دریافت کنید.\\n                 <div class=\"t-center\">\\n                        <a href=\"http://1daymovie.org/?affiliate=116460\" >http://1daymovie.org/?affiliate=116460</a>\\n                    </div>\\n                </div>\\n                <div class=\"mbox\">\\n                    <div class=\"mtitle\">\\n                        <h2>اطلاعیه ها</h2>\\n                    </div>\\n                    <div class=\"mcontent\">\\n                        <table class=\"tbluser\">\\n                            <tr><th>#</th><th>عنوان</th></tr>\\n                                                        <tr ><td>1</td><td><a href=\"/user/notice/view?id=16\">حمایت از دوبله اختصاصی رسانه نایت مووی</a></td></tr>\\n                                                        <tr ><td>2</td><td><a href=\"/user/notice/view?id=15\">حذف شدن اشتراک کاربرانی که در تاریخ 97/2/13 الی 97/2/15 سرویس خرید کرده اند</a></td></tr>\\n                                                        <tr ><td>3</td><td><a href=\"/user/notice/view?id=14\">آدرس یاب جدید رسانه اینترنتی نایت مووی</a></td></tr>\\n                                                        \\n                        </table>\\n                    </div>\\n                </div>\\n                \\n\\n\\n\\n   \\n\\n \\n</div>\\n\\n            </article>\\n            <div class=\"clear\"></div>\\n        </div>\\n    \\n        <script src=\"/js/owl.carousel.min.js?id=1483100338\"></script>\\n        <script src=\"/js/jquery.blockUI.js?id=1483100338\"></script>\\n         <script src=\"/js/public.js?id=1483100338\"></script>\\n          <script src=\"/js/panel_profile.js?id=1483100338\"></script>\\n</body>\\n</html>\\n'"
      ]
     },
     "execution_count": 53,
     "metadata": {},
     "output_type": "execute_result"
    }
   ],
   "source": [
    "response.text"
   ]
  },
  {
   "cell_type": "code",
   "execution_count": 54,
   "metadata": {
    "ExecuteTime": {
     "end_time": "2020-01-22T09:41:53.699738Z",
     "start_time": "2020-01-22T09:41:52.694647Z"
    }
   },
   "outputs": [
    {
     "name": "stdout",
     "output_type": "stream",
     "text": [
      "<ul class=\"suggestitems\">        <li><a\r\n",
      "                data-id=\"tt6603378\"\r\n",
      "                href=\"/movie/tt6603378\"\r\n",
      "                ></a> <img                     src=\"/upload/75/tqN7UP6cXy9ZEzITkJwr9yTpnQ1D.jpg\" width=\"56\" height=\"70\"\r\n",
      "                    alt=\"The Dark Kingdom\">\r\n",
      "                <div class=\"ssname\">The Dark Kingdom (2019)</div>\r\n",
      "                        <div class=\"ssdetail\">Adrian Bouchet,Ben Loyd-Holmes,Ross O'Hennessy,Cengiz Dervis,Chris Bell,Richard Summers-Calvert,Joe Egan,Jon-Paul Gates,Silvio Simac,Lee Charles,Marc Zammit,Jessica-Jane Stafford,Zara Phythian,Linda Louise Duan,Rachel Warren,Cheryl Burniston,Jemma Moore,Jamie O'Rourke,Rebecca Dyson-Smith,Louise Rhian Poole,Samantha Smallwood,Devon White,Chris von Ruhland,David Childs,Ed Porter,Kelley Costigan,Marc Alden Taylor,Shaun Gotterson,Yolanda Lynes,Mike Mitchell,Clare Duncan,Antonia Tootill,Chiara von Galli,Hannaj Bang Bendz,Hannah Roberts,Laura Hunter,Georgia Shaw,Asha Cecil,Rosa Brighid,Kerry Newton,Dominic Le Moignan,Jason Moments,Karim Bedda,Kyle McSporran,Michael Hadcocks,Ashton Bell,Tim Duthrane,Benos Noble,Mostafa Kamali,Mirsad Solakovic,Kumel Heer,Emmeline Kellie,Adrian Fear,Chris Wolff,Hazel Margerison,James Harris,Jamie Lee-Hill,Jason Churchill,Jimmi Addison,John Collingwood,Kelly Passaro,Lyle Mitchell,Mark Ward,Martin Loxton,Matthew Tyler,Michael Mitchell,Nic Jones,Nick Tuck,Saskia Allen,Tamsin Hunt,Tom Dodd,Tenisha White,</div>\r\n",
      "                            <div class=\"ssrate\">\r\n",
      "                    <i class=\"fa fa-star\"></i>3</div>\r\n",
      "                        </li>\r\n",
      "\r\n",
      "                <li><a\r\n",
      "                data-id=\"tt6565702\"\r\n",
      "                href=\"/movie/tt6565702\"\r\n",
      "                ></a> <img                     src=\"/upload/75/EkbkeJjzFzhutqSd2WS3tkS6eaFW.jpg\" width=\"56\" height=\"70\"\r\n",
      "                    alt=\"Dark Phoenix\">\r\n",
      "                <div class=\"ssname\">Dark Phoenix (2019)</div>\r\n",
      "                        <div class=\"ssdetail\">James McAvoy,Michael Fassbender,Jennifer Lawrence,Jessica Chastain,Kodi Smit-McPhee,Tye Sheridan,Nicholas Hoult,Daniel Cudmore,Ato Essandoh,Evan Peters,Scott Shepherd,Lamar Johnson,Karen Ivany,Josh McLaglen,Alexandra Shipp,Sophie Turner,Michael Lipka,Evan Jonigkeit,Andre Bedard,Andrew Stehlin,Craig Snoyer,Joseph John Coleman,Tyler Elliot Burke,Marine Buton,Eldon Hunter,Gregg Lowe,Sebastian MacLean,Serge Martineau,George Chiang,Julian Bailey,Olivier Lamarche,Maurizio Terrazzano,Melissa Toussaint,Summer Fontana,David Patrick Green,Frédéric Gilles,Kendel LeGore,Alex Gravenstein,Kota Eberhardt,Sebastien Beaulac,Christopher Hayes,Xavier Sotelo,Alexandre Bélanger,Vanessa Jackson,Aphra Williams,Dave Campbell,Simon Alain,Amir Sám Nakhjavani,Eric Clark,Sébastien Bolduc,Aalia Adam,Ilyes Belayel,Emilio La Torre,Christian Labbé,</div>\r\n",
      "                            <div class=\"ssrate\">\r\n",
      "                    <i class=\"fa fa-star\"></i>5.8</div>\r\n",
      "                        </li>\r\n",
      "\r\n",
      "                <li><a\r\n",
      "                data-id=\"tt6450804\"\r\n",
      "                href=\"/movie/tt6450804\"\r\n",
      "                ></a> <img                     src=\"/upload/75/jbXH3lDWLfgHRE5WowHy66qjEViB.jpg\" width=\"56\" height=\"70\"\r\n",
      "                    alt=\"Terminator: Dark Fate\">\r\n",
      "                <div class=\"ssname\">Terminator: Dark Fate (2019)</div>\r\n",
      "                        <div class=\"ssdetail\">Mackenzie Davis,Arnold Schwarzenegger,Stuart McQuarrie,Matt Devere,Tom Hopper,Diego Boneta,Edward Furlong,Steven Cree,Pete Ploszek,Linda Hamilton,Christine Horn,Gabriel Luna,Karen Gagnon,Hadrian Howard,Alicia Borrachero,Björn Freiberg,Enrique Arce,Daniel Ortiz,Tábata Cerezo,Peter Ormond,Blair Jackson,Fraser James,Peter Schueller,John Gettier,Mario de la Rosa,Cleveland Berto,Kacy Owens,Nicholas Wittman,Rochelle Neil,Tarnue Massaquoi,Neil Corbould,Aaron Kunitz,Samantha Coughlan,Cassandra Starr,Stephen Oyoung,Josh Wood,Lorna Brown,Mark Weiler,Brett Azar,Tristán Ulloa,Claudia Trujillo,Phillip Garcia,Arlette Torres,James Barriscale,Mona Martínez,Natalia Reyes,Pedro Rudolphi,Ferran Fernández,Tomy Alvarez,Manuel Pacific,Diego Marínez,Kevin Medina,José Cerós,Shadday López,Pedro Hernández,Mariah Nonnemacher,Jacques A. Nevils,Daniel Ibáñez,Francis McBurney,Mikey Bharj,Alejandra Mayo,Stephanie Gil,Angelica Andreu,Iria Calero,Dan Stroiman,Mark Hesketh,Joaquín Molla,Alberto Da La Sinda,Zoltan Teglas,Anisha Gibbs,Anthony Oh,Georgia Simon,Károly Baksai,Ana Batuecas,Geneviève Doang,Armando Mundaraín,Polina Sokolskiy,István Áldott,</div>\r\n",
      "                            <div class=\"ssrate\">\r\n",
      "                    <i class=\"fa fa-star\"></i>6.4</div>\r\n",
      "                        </li>\r\n",
      "\r\n",
      "                <li><a\r\n",
      "                data-id=\"tt5692786\"\r\n",
      "                href=\"/movie/tt5692786\"\r\n",
      "                ></a> <img                     src=\"/upload/75/3MImggF_zVmgBrIp2Uh82Hio3jhY.jpg\" width=\"56\" height=\"70\"\r\n",
      "                    alt=\"Darkness Visible\">\r\n",
      "                <div class=\"ssname\">Darkness Visible (2019)</div>\r\n",
      "                        <div class=\"ssdetail\">Neil Bhoopalam,Sayani Gupta,Seema Biswas,Jaz Deol,Salóme Gunnarsdóttir,Janardan Ghosh,Kaushik Mitra,Sanjay Paul,</div>\r\n",
      "                            <div class=\"ssrate\">\r\n",
      "                    <i class=\"fa fa-star\"></i>5.5</div>\r\n",
      "                        </li>\r\n",
      "\r\n",
      "                <li><a\r\n",
      "                data-id=\"tt3387520\"\r\n",
      "                href=\"/movie/tt3387520\"\r\n",
      "                ></a> <img                     src=\"/upload/75/7DvDM55u8mDPTtMyIQl03QbtuYtz.jpg\" width=\"56\" height=\"70\"\r\n",
      "                    alt=\"Scary Stories to Tell in the Dark\">\r\n",
      "                <div class=\"ssname\">Scary Stories to Tell in the Dark (2019)</div>\r\n",
      "                        <div class=\"ssdetail\">Dean Norris,Andrew Jackson,Gil Bellows,Javier Botet,Jane Moffat,Lorraine Toussaint,Zoe Margaret Colletti,David Tompa,Mark Steger,Austin Abrams,Elias Edraki,Gabriel Rush,Amanda Smith,Hershel Blatt,Stephanie Belding,Marie Ward,Austin Zajur,Natalie Ganzhorn,Daniel Gravelle,Troy James,Michael Garza,Kathleen Pollard,Will Carr,Will Corno,Brandon Knox,Tavia Pereira,Anthony Colonello,Divan Meyer,</div>\r\n",
      "                            <div class=\"ssrate\">\r\n",
      "                    <i class=\"fa fa-star\"></i>6.2</div>\r\n",
      "                        </li>\r\n",
      "\r\n",
      "        </ul>\r\n",
      "<div class=\"moreitems\">\r\n",
      "                                <a href=\"/search/dark\"><i class=\"fa fa-angle-double-left\"></i> بیشتر</a>\r\n",
      "                            </div><div class=\"sugsep\"></div><ul class=\"suggestitems\">        <li><a\r\n",
      "                data-id=\"tt5753856\"\r\n",
      "                href=\"/tvshow/tt5753856\"\r\n",
      "                ></a> <img                     src=\"/upload/75/IOlXGMa6raT7jsawJQh6Gw_HCege.jpg\" width=\"56\" height=\"70\"\r\n",
      "                    alt=\"Dark\">\r\n",
      "                <div class=\"ssname\">Dark (2017–)</div>\r\n",
      "                        <div class=\"ssdetail\">Anatole Taubman,Michael Mendl,Karoline Eichhorn,Ludger Bökelmann,Stephan Kampwirth,Lisa Vicari,Angela Winkler,Nino Böhlau,Tom Jahn,Arnd Klawitter,Franz Hartwig,Sebastian Rudolph,Lea van Acken,Andreas Pietschmann,Leopold Hornung,Peter Schneider,Thomas Arnold,Nele Trebs,Jördis Triebel,Sebastian Hülk,Nils Brunkhorst,Lisa Kreuzer,Tatja Seibt,Hermann Beyer,Christian Steyer,Oliver Masucci,Louis Hofmann,Joshio Marlon,Luc Feit,Henning Peker,Peter Benedict,Lena Milan,Christian Hutcherson,Eva Maria Jost,Luise Heyer,Peter Benedict,Anna König,Hannes Wegener,Florian Panzner,Sammy Scheuritzel,Gwendolyn Göbel,Felix Kramer,Lena Dörrie,Walter Kreye,Daan Lennard Liebrenz,Maja Schöne,Deborah Kaufmann,Paul Lux,Moritz Jahn,Ella Lee,Christian Pätzold,Anne Ratte-Polle,Tom Philipp,Mark Waschke,Lydia Maria Makrides,Carlotta von Falkenhayn,Stephanie Amarell,Gina Alice Stiebitz,Julika Jenkins,Anne Lebinsky,Cordelia Wege,Vico Mücke,Anton Rubtsov,Mieke Schymura,Gina Alice Stiebitz,Rike Sindler,Lena Urzendowsky,Tara Fischer,Barbara Philipp,Paul Radom,Denis Schmidt,Anna Schönberg,Rudolph Sebastian,Lea Willkowsky,Valentin Oppermann,Lydia Maria Makrides,Béla Gabor Lenz,Helena Abay,Jennipher Antoni,Leon Lukas Blaschke,Lenz Lengers,Cornelia Lippert,Paul Radom,Nina Weniger,Roland Wolf,Harald Effenberg,</div>\r\n",
      "                            <div class=\"ssrate\">\r\n",
      "                    <i class=\"fa fa-star\"></i>8.7</div>\r\n",
      "                        </li>\r\n",
      "\r\n",
      "                <li><a\r\n",
      "                data-id=\"tt4159076\"\r\n",
      "                href=\"/tvshow/tt4159076\"\r\n",
      "                ></a> <img                     src=\"/upload/75/GdBwyc2I5gaHzV4G0EZnZuPyHVBA.jpg\" width=\"56\" height=\"70\"\r\n",
      "                    alt=\"Dark Matter\">\r\n",
      "                <div class=\"ssname\">Dark Matter (2015–)</div>\r\n",
      "                        <div class=\"ssdetail\">Jodelle Ferland,Anthony Lemke,Melissa O'Neil,</div>\r\n",
      "                            <div class=\"ssrate\">\r\n",
      "                    <i class=\"fa fa-star\"></i>7.5</div>\r\n",
      "                        </li>\r\n",
      "\r\n",
      "                <li><a\r\n",
      "                data-id=\"tt5607976\"\r\n",
      "                href=\"/tvshow/tt5607976\"\r\n",
      "                ></a> <img                     src=\"/upload/75/y4L_4eXgAhwV01yvXTgPkNC8yb2l.jpg\" width=\"56\" height=\"70\"\r\n",
      "                    alt=\"His Dark Materials\">\r\n",
      "                <div class=\"ssname\">His Dark Materials (2019–)</div>\r\n",
      "                        <div class=\"ssdetail\">James McAvoy,Ruth Wilson,Clarke Peters,Omid Djalili,Helen McCrory,David Suchet,James Cosmo,Anne-Marie Duff,Geoff Bell,Gary Lewis,Nabil Elouahabi,Peter Serafinowicz,Andrew Scott,Robert Emms,Lin-Manuel Miranda,Richard Cunningham,Patrick Godfrey,Amit Shah,Ariyon Bakare,Will Keen,Morfydd Clark,Ian Peck,Kit Connor,Frank Bourke,Lia Williams,Mat Fraser,Harry Melling,Vivien Bridson,Georgina Campbell,Raffiella Chapman,Kate Rutter,Dafne Keen,Ruta Gedmintas,Clem So,Richard Price,Ian Gelder,Lewin Lloyd,Lucian Msamati,Asheq Akhtar,Brian Fisher,Cristela Alonzo,Joi Johannsson,Lewis Reynolds,Joakim Skarli,Juke Hardy,Jamie Wilkes,Iulia Filipovscaia,Pino Maiello,Pasi Antero Remsu,Michael Hennessy,Charlie Robinson,Amir Wilson,Katarina Martin,Simon Manyonda,Tiago Martins,Rich Lawton,Tim Wildman,Daniel Joseph Woolf,Archie Barnes,Sarah Trevelyan,Leanne Holder,Tyler Howitt,Daniel Frogson,Joe Tandberg,David Langham,Eloise Little,Philip Goldacre,Ruby Llewelyn,Mary Fernandez,Michael Kerry White,Sandra James-Young,Phoebe Scholfield,Libby Rodliffe,David Mullenger,Jon Ramsbottom,Kai Gillett,Matthew James Miles,</div>\r\n",
      "                            <div class=\"ssrate\">\r\n",
      "                    <i class=\"fa fa-star\"></i>8</div>\r\n",
      "                        </li>\r\n",
      "\r\n",
      "        </ul>\r\n",
      "<div class=\"moreitems\">\r\n",
      "                                <a href=\"/search/dark\"><i class=\"fa fa-angle-double-left\"></i> بیشتر</a>\r\n",
      "                            </div><div class=\"sugsep\"></div><ul class=\"suggestitems\">        <li><a\r\n",
      "                data-id=\"59408\"\r\n",
      "                href=\"/people/59408\"\r\n",
      "                ></a> <img                 src=\"/upload/people/3979395fdb1e8a8dee72634b67f0e9de.jpg\" width=\"56\"\r\n",
      "                height=\"70\" alt=\"Madhur Bhandarkar \">\r\n",
      "                <div class=\"ssname\">Madhur Bhandarkar</div>\r\n",
      "                        <div class=\"ssdetail\">کارگردان,نویسنده,دستیار کارگردان,</div>\r\n",
      "                    </li>\r\n",
      "\r\n",
      "                <li><a\r\n",
      "                data-id=\"238615\"\r\n",
      "                href=\"/people/238615\"\r\n",
      "                ></a> <img                 src=\"/upload/people/64f15df3e7c3b3f3d1104fbb06dee072.jpg\" width=\"56\"\r\n",
      "                height=\"70\" alt=\"Maria Darkina \">\r\n",
      "                <div class=\"ssname\">Maria Darkina</div>\r\n",
      "                        <div class=\"ssdetail\">بازیگر زن,</div>\r\n",
      "                    </li>\r\n",
      "\r\n",
      "        </ul>\r\n",
      "<div class=\"moreitems\">\r\n",
      "                                <a href=\"/search/dark\"><i class=\"fa fa-angle-double-left\"></i> بیشتر</a>\r\n",
      "                            </div><div class=\"sugsep\"></div>\n"
     ]
    }
   ],
   "source": [
    "\n",
    "url = \"http://www.1daymovie.org/search.php\"\n",
    "\n",
    "string = \"dark\"\n",
    "\n",
    "payload = \"type=-1&string=\" + string\n",
    "\n",
    "#response = requests.request(\"POST\", url, data=payload, headers=headers)\n",
    "response = s.post(url, data=payload)\n",
    "\n",
    "print(response.text)"
   ]
  },
  {
   "cell_type": "code",
   "execution_count": 55,
   "metadata": {
    "ExecuteTime": {
     "end_time": "2020-01-22T09:41:54.928479Z",
     "start_time": "2020-01-22T09:41:54.920099Z"
    }
   },
   "outputs": [
    {
     "data": {
      "text/plain": [
       "{'User-Agent': 'Mozilla/5.0 (X11; Ubuntu; Linux x86_64; rv:72.0) Gecko/20100101 Firefox/72.0', 'Accept-Encoding': 'gzip, deflate', 'Accept': 'text/html,application/xhtml+xml,application/xml;q=0.9,image/webp,*/*;q=0.8', 'Connection': 'keep-alive', 'Accept-Language': 'en-US,en;q=0.5', 'Content-Type': 'application/x-www-form-urlencoded', 'Origin': 'http://1daymovie.org', 'Referer': 'http://1daymovie.org/login', 'Upgrade-Insecure-Requests': '1', 'cache-control': 'no-cache'}"
      ]
     },
     "execution_count": 55,
     "metadata": {},
     "output_type": "execute_result"
    }
   ],
   "source": [
    "s.headers"
   ]
  },
  {
   "cell_type": "code",
   "execution_count": 56,
   "metadata": {
    "ExecuteTime": {
     "end_time": "2020-01-22T09:41:55.954725Z",
     "start_time": "2020-01-22T09:41:55.937021Z"
    }
   },
   "outputs": [],
   "source": [
    "soup = BeautifulSoup(response.text, 'html.parser')"
   ]
  },
  {
   "cell_type": "code",
   "execution_count": 57,
   "metadata": {
    "ExecuteTime": {
     "end_time": "2020-01-22T09:41:56.866525Z",
     "start_time": "2020-01-22T09:41:56.837721Z"
    }
   },
   "outputs": [
    {
     "name": "stdout",
     "output_type": "stream",
     "text": [
      "{'Movies': [{'title': 'The Dark Kingdom (2019)', 'href': 'http://1daymovie.org/movie/tt6603378', 'img': 'http://1daymovie.org/upload/75/tqN7UP6cXy9ZEzITkJwr9yTpnQ1D.jpg', 'details': \"Adrian Bouchet,Ben Loyd-Holmes,Ross O'Hennessy,Cengiz Dervis,Chris Bell,Richard Summers-Calvert,Joe Egan,Jon-Paul Gates,Silvio Simac,Lee Charles,Marc Zammit,Jessica-Jane Stafford,Zara Phythian,Linda Louise Duan,Rachel Warren,Cheryl Burniston,Jemma Moore,Jamie O'Rourke,Rebecca Dyson-Smith,Louise Rhian Poole,Samantha Smallwood,Devon White,Chris von Ruhland,David Childs,Ed Porter,Kelley Costigan,Marc Alden Taylor,Shaun Gotterson,Yolanda Lynes,Mike Mitchell,Clare Duncan,Antonia Tootill,Chiara von Galli,Hannaj Bang Bendz,Hannah Roberts,Laura Hunter,Georgia Shaw,Asha Cecil,Rosa Brighid,Kerry Newton,Dominic Le Moignan,Jason Moments,Karim Bedda,Kyle McSporran,Michael Hadcocks,Ashton Bell,Tim Duthrane,Benos Noble,Mostafa Kamali,Mirsad Solakovic,Kumel Heer,Emmeline Kellie,Adrian Fear,Chris Wolff,Hazel Margerison,James Harris,Jamie Lee-Hill,Jason Churchill,Jimmi Addison,John Collingwood,Kelly Passaro,Lyle Mitchell,Mark Ward,Martin Loxton,Matthew Tyler,Michael Mitchell,Nic Jones,Nick Tuck,Saskia Allen,Tamsin Hunt,Tom Dodd,Tenisha White,\", 'rate': '3'}, {'title': 'Dark Phoenix (2019)', 'href': 'http://1daymovie.org/movie/tt6565702', 'img': 'http://1daymovie.org/upload/75/EkbkeJjzFzhutqSd2WS3tkS6eaFW.jpg', 'details': 'James McAvoy,Michael Fassbender,Jennifer Lawrence,Jessica Chastain,Kodi Smit-McPhee,Tye Sheridan,Nicholas Hoult,Daniel Cudmore,Ato Essandoh,Evan Peters,Scott Shepherd,Lamar Johnson,Karen Ivany,Josh McLaglen,Alexandra Shipp,Sophie Turner,Michael Lipka,Evan Jonigkeit,Andre Bedard,Andrew Stehlin,Craig Snoyer,Joseph John Coleman,Tyler Elliot Burke,Marine Buton,Eldon Hunter,Gregg Lowe,Sebastian MacLean,Serge Martineau,George Chiang,Julian Bailey,Olivier Lamarche,Maurizio Terrazzano,Melissa Toussaint,Summer Fontana,David Patrick Green,Frédéric Gilles,Kendel LeGore,Alex Gravenstein,Kota Eberhardt,Sebastien Beaulac,Christopher Hayes,Xavier Sotelo,Alexandre Bélanger,Vanessa Jackson,Aphra Williams,Dave Campbell,Simon Alain,Amir Sám Nakhjavani,Eric Clark,Sébastien Bolduc,Aalia Adam,Ilyes Belayel,Emilio La Torre,Christian Labbé,', 'rate': '5.8'}, {'title': 'Terminator: Dark Fate (2019)', 'href': 'http://1daymovie.org/movie/tt6450804', 'img': 'http://1daymovie.org/upload/75/jbXH3lDWLfgHRE5WowHy66qjEViB.jpg', 'details': 'Mackenzie Davis,Arnold Schwarzenegger,Stuart McQuarrie,Matt Devere,Tom Hopper,Diego Boneta,Edward Furlong,Steven Cree,Pete Ploszek,Linda Hamilton,Christine Horn,Gabriel Luna,Karen Gagnon,Hadrian Howard,Alicia Borrachero,Björn Freiberg,Enrique Arce,Daniel Ortiz,Tábata Cerezo,Peter Ormond,Blair Jackson,Fraser James,Peter Schueller,John Gettier,Mario de la Rosa,Cleveland Berto,Kacy Owens,Nicholas Wittman,Rochelle Neil,Tarnue Massaquoi,Neil Corbould,Aaron Kunitz,Samantha Coughlan,Cassandra Starr,Stephen Oyoung,Josh Wood,Lorna Brown,Mark Weiler,Brett Azar,Tristán Ulloa,Claudia Trujillo,Phillip Garcia,Arlette Torres,James Barriscale,Mona Martínez,Natalia Reyes,Pedro Rudolphi,Ferran Fernández,Tomy Alvarez,Manuel Pacific,Diego Marínez,Kevin Medina,José Cerós,Shadday López,Pedro Hernández,Mariah Nonnemacher,Jacques A. Nevils,Daniel Ibáñez,Francis McBurney,Mikey Bharj,Alejandra Mayo,Stephanie Gil,Angelica Andreu,Iria Calero,Dan Stroiman,Mark Hesketh,Joaquín Molla,Alberto Da La Sinda,Zoltan Teglas,Anisha Gibbs,Anthony Oh,Georgia Simon,Károly Baksai,Ana Batuecas,Geneviève Doang,Armando Mundaraín,Polina Sokolskiy,István Áldott,', 'rate': '6.4'}, {'title': 'Darkness Visible (2019)', 'href': 'http://1daymovie.org/movie/tt5692786', 'img': 'http://1daymovie.org/upload/75/3MImggF_zVmgBrIp2Uh82Hio3jhY.jpg', 'details': 'Neil Bhoopalam,Sayani Gupta,Seema Biswas,Jaz Deol,Salóme Gunnarsdóttir,Janardan Ghosh,Kaushik Mitra,Sanjay Paul,', 'rate': '5.5'}, {'title': 'Scary Stories to Tell in the Dark (2019)', 'href': 'http://1daymovie.org/movie/tt3387520', 'img': 'http://1daymovie.org/upload/75/7DvDM55u8mDPTtMyIQl03QbtuYtz.jpg', 'details': 'Dean Norris,Andrew Jackson,Gil Bellows,Javier Botet,Jane Moffat,Lorraine Toussaint,Zoe Margaret Colletti,David Tompa,Mark Steger,Austin Abrams,Elias Edraki,Gabriel Rush,Amanda Smith,Hershel Blatt,Stephanie Belding,Marie Ward,Austin Zajur,Natalie Ganzhorn,Daniel Gravelle,Troy James,Michael Garza,Kathleen Pollard,Will Carr,Will Corno,Brandon Knox,Tavia Pereira,Anthony Colonello,Divan Meyer,', 'rate': '6.2'}], 'TV Shows': [{'title': 'Dark (2017–)', 'href': 'http://1daymovie.org/tvshow/tt5753856', 'img': 'http://1daymovie.org/upload/75/IOlXGMa6raT7jsawJQh6Gw_HCege.jpg', 'details': 'Anatole Taubman,Michael Mendl,Karoline Eichhorn,Ludger Bökelmann,Stephan Kampwirth,Lisa Vicari,Angela Winkler,Nino Böhlau,Tom Jahn,Arnd Klawitter,Franz Hartwig,Sebastian Rudolph,Lea van Acken,Andreas Pietschmann,Leopold Hornung,Peter Schneider,Thomas Arnold,Nele Trebs,Jördis Triebel,Sebastian Hülk,Nils Brunkhorst,Lisa Kreuzer,Tatja Seibt,Hermann Beyer,Christian Steyer,Oliver Masucci,Louis Hofmann,Joshio Marlon,Luc Feit,Henning Peker,Peter Benedict,Lena Milan,Christian Hutcherson,Eva Maria Jost,Luise Heyer,Peter Benedict,Anna König,Hannes Wegener,Florian Panzner,Sammy Scheuritzel,Gwendolyn Göbel,Felix Kramer,Lena Dörrie,Walter Kreye,Daan Lennard Liebrenz,Maja Schöne,Deborah Kaufmann,Paul Lux,Moritz Jahn,Ella Lee,Christian Pätzold,Anne Ratte-Polle,Tom Philipp,Mark Waschke,Lydia Maria Makrides,Carlotta von Falkenhayn,Stephanie Amarell,Gina Alice Stiebitz,Julika Jenkins,Anne Lebinsky,Cordelia Wege,Vico Mücke,Anton Rubtsov,Mieke Schymura,Gina Alice Stiebitz,Rike Sindler,Lena Urzendowsky,Tara Fischer,Barbara Philipp,Paul Radom,Denis Schmidt,Anna Schönberg,Rudolph Sebastian,Lea Willkowsky,Valentin Oppermann,Lydia Maria Makrides,Béla Gabor Lenz,Helena Abay,Jennipher Antoni,Leon Lukas Blaschke,Lenz Lengers,Cornelia Lippert,Paul Radom,Nina Weniger,Roland Wolf,Harald Effenberg,', 'rate': '8.7'}, {'title': 'Dark Matter (2015–)', 'href': 'http://1daymovie.org/tvshow/tt4159076', 'img': 'http://1daymovie.org/upload/75/GdBwyc2I5gaHzV4G0EZnZuPyHVBA.jpg', 'details': \"Jodelle Ferland,Anthony Lemke,Melissa O'Neil,\", 'rate': '7.5'}, {'title': 'His Dark Materials (2019–)', 'href': 'http://1daymovie.org/tvshow/tt5607976', 'img': 'http://1daymovie.org/upload/75/y4L_4eXgAhwV01yvXTgPkNC8yb2l.jpg', 'details': 'James McAvoy,Ruth Wilson,Clarke Peters,Omid Djalili,Helen McCrory,David Suchet,James Cosmo,Anne-Marie Duff,Geoff Bell,Gary Lewis,Nabil Elouahabi,Peter Serafinowicz,Andrew Scott,Robert Emms,Lin-Manuel Miranda,Richard Cunningham,Patrick Godfrey,Amit Shah,Ariyon Bakare,Will Keen,Morfydd Clark,Ian Peck,Kit Connor,Frank Bourke,Lia Williams,Mat Fraser,Harry Melling,Vivien Bridson,Georgina Campbell,Raffiella Chapman,Kate Rutter,Dafne Keen,Ruta Gedmintas,Clem So,Richard Price,Ian Gelder,Lewin Lloyd,Lucian Msamati,Asheq Akhtar,Brian Fisher,Cristela Alonzo,Joi Johannsson,Lewis Reynolds,Joakim Skarli,Juke Hardy,Jamie Wilkes,Iulia Filipovscaia,Pino Maiello,Pasi Antero Remsu,Michael Hennessy,Charlie Robinson,Amir Wilson,Katarina Martin,Simon Manyonda,Tiago Martins,Rich Lawton,Tim Wildman,Daniel Joseph Woolf,Archie Barnes,Sarah Trevelyan,Leanne Holder,Tyler Howitt,Daniel Frogson,Joe Tandberg,David Langham,Eloise Little,Philip Goldacre,Ruby Llewelyn,Mary Fernandez,Michael Kerry White,Sandra James-Young,Phoebe Scholfield,Libby Rodliffe,David Mullenger,Jon Ramsbottom,Kai Gillett,Matthew James Miles,', 'rate': '8'}]}\n"
     ]
    }
   ],
   "source": [
    "## building items_dict from search\n",
    "\n",
    "items_dict = {\"Movies\": [], \"TV Shows\": []}\n",
    "\n",
    "items = soup.find_all(\"li\")\n",
    "for item in items:\n",
    "    href = \"http://1daymovie.org\" + item.find(\"a\")[\"href\"]\n",
    "    if \"people\" in href:\n",
    "        continue\n",
    "    ## TODO: if needed: change \"75\" in img src to \"280\" to get full size poster\n",
    "    img = \"http://1daymovie.org\" + item.find(\"img\")[\"src\"]\n",
    "    title = item.find(class_=\"ssname\").text\n",
    "    details = item.find(class_=\"ssdetail\").text\n",
    "    rate = item.find(class_=\"ssrate\").text.strip()\n",
    "    this_item = {\n",
    "        \"title\": title,\n",
    "        \"href\": href,\n",
    "        \"img\": img,\n",
    "        \"details\": details,\n",
    "        \"rate\": rate\n",
    "    }\n",
    "    if \"tvshow\" in href:\n",
    "        items_dict[\"TV Shows\"].append(this_item)\n",
    "    elif \"movie\" in href:\n",
    "        items_dict[\"Movies\"].append(this_item)\n",
    "        \n",
    "print(items_dict)"
   ]
  },
  {
   "cell_type": "code",
   "execution_count": 58,
   "metadata": {
    "ExecuteTime": {
     "end_time": "2020-01-22T09:43:18.873393Z",
     "start_time": "2020-01-22T09:43:17.494707Z"
    }
   },
   "outputs": [],
   "source": [
    "url = \"http://1daymovie.org/movie/tt6450804\"\n",
    "\n",
    "# response_movie = requests.request(\"GET\", url, headers=headers)\n",
    "response_movie = s.get(url)"
   ]
  },
  {
   "cell_type": "code",
   "execution_count": 59,
   "metadata": {
    "ExecuteTime": {
     "end_time": "2020-01-22T09:43:19.367148Z",
     "start_time": "2020-01-22T09:43:19.292065Z"
    }
   },
   "outputs": [],
   "source": [
    "soup_movie = BeautifulSoup(response_movie.text, 'html.parser')"
   ]
  },
  {
   "cell_type": "code",
   "execution_count": 60,
   "metadata": {
    "ExecuteTime": {
     "end_time": "2020-01-22T09:43:25.545576Z",
     "start_time": "2020-01-22T09:43:25.529100Z"
    }
   },
   "outputs": [
    {
     "name": "stdout",
     "output_type": "stream",
     "text": [
      "{'Download Links': [{'quality': 'BluRay 1080p Full HD', 'size': '8.74 GB', 'resolution': '1920x800', 'encoder': 'SPARKS', 'download_url': 'http://dl13.kingupload.org/user/Aria/Movie/2019/Terminator.Dark.Fate/Terminator.Dark.Fate.2019.1080p.BluRay.x264-SPARKS.DayMovie.mkv?key=116460_bbeOC9RLE5WEPDd4aFkewAlmt1579686197', 'screenshot_url': 'http://dl13.kingupload.org/user/Aria/Movie/2019/Terminator.Dark.Fate/Terminator.Dark.Fate.2019.1080p.BluRay.x264-SPARKS.DayMovie_s.jpg'}, {'quality': 'BluRay 1080p', 'size': '1.94 GB', 'resolution': '1920x800', 'encoder': 'DayMovie', 'download_url': 'http://dl13.kingupload.org/user/Aria/Movie/2019/Terminator.Dark.Fate/Terminator.Dark.Fate.2019.1080p.BluRay.6CH.x264.DayMovie.mkv?key=116460_Z1UfVgH7eeAj9DPdxAcTnglmt1579686197', 'screenshot_url': 'http://dl13.kingupload.org/user/Aria/Movie/2019/Terminator.Dark.Fate/Terminator.Dark.Fate.2019.1080p.BluRay.6CH.x264.DayMovie_s.jpg'}, {'quality': 'BluRay 1080p', 'size': '2.95 GB', 'resolution': '1920x800', 'encoder': 'Pahe', 'download_url': 'http://dl13.kingupload.org/user/Aria/Movie/2019/Terminator.Dark.Fate/Terminator.Dark.Fate.2019.1080p.BluRay.x264.Pahe.DayMovie.mkv?key=116460_eI5nC3cREfE1ELMsn0h9PAlmt1579686197', 'screenshot_url': 'http://dl13.kingupload.org/user/Aria/Movie/2019/Terminator.Dark.Fate/Terminator.Dark.Fate.2019.1080p.BluRay.x264.Pahe.DayMovie_s.jpg'}, {'quality': 'BluRay 1080p', 'size': '2.23 GB', 'resolution': '1920x800', 'encoder': 'YIFY', 'download_url': 'http://dl13.kingupload.org/user/Aria/Movie/2019/Terminator.Dark.Fate/Terminator.Dark.Fate.2019.1080p.BluRay.x264.YIFY.DayMovie.mp4?key=116460_igF6T0beBIAvYDOiChIKjglmt1579686197', 'screenshot_url': 'http://dl13.kingupload.org/user/Aria/Movie/2019/Terminator.Dark.Fate/Terminator.Dark.Fate.2019.1080p.BluRay.x264.YIFY.DayMovie_s.jpg'}, {'quality': 'BluRay 1080p x265', 'size': '2.29 GB', 'resolution': '1920x800', 'encoder': 'PSA', 'download_url': 'http://dl13.kingupload.org/user/Aria/Movie/2019/Terminator.Dark.Fate/Terminator.Dark.Fate.2019.1080p.BrRip.6CH.x265.HEVC-PSA.DayMovie.mkv?key=116460_hJU3CRcWNlvqxS3WUrdVYAlmt1579686197', 'screenshot_url': 'http://dl13.kingupload.org/user/Aria/Movie/2019/Terminator.Dark.Fate/Terminator.Dark.Fate.2019.1080p.BrRip.6CH.x265.HEVC-PSA.DayMovie_s.jpg'}, {'quality': 'BluRay 720p', 'size': '1.09 GB', 'resolution': '1280x544', 'encoder': 'Pahe', 'download_url': 'http://dl13.kingupload.org/user/Aria/Movie/2019/Terminator.Dark.Fate/Terminator.Dark.Fate.2019.720p.BluRay.x264.Pahe.DayMovie.mkv?key=116460_gsNGP8WNLvsjCqoJi1nf6wlmt1579686197', 'screenshot_url': 'http://dl13.kingupload.org/user/Aria/Movie/2019/Terminator.Dark.Fate/Terminator.Dark.Fate.2019.720p.BluRay.x264.Pahe.DayMovie_s.jpg'}, {'quality': 'BluRay 720p', 'size': '986.33 MB', 'resolution': '1280x544', 'encoder': 'DayMovie', 'download_url': 'http://dl13.kingupload.org/user/Aria/Movie/2019/Terminator.Dark.Fate/Terminator.Dark.Fate.2019.720p.BluRay.x264.DayMovie.mkv?key=116460_DIFOD5pp4VwSo0S3MDhcDwlmt1579686197', 'screenshot_url': 'http://dl13.kingupload.org/user/Aria/Movie/2019/Terminator.Dark.Fate/Terminator.Dark.Fate.2019.720p.BluRay.x264.DayMovie_s.jpg'}, {'quality': 'BluRay 720p', 'size': '1.12 GB', 'resolution': '1280x544', 'encoder': 'YIFY', 'download_url': 'http://dl13.kingupload.org/user/Aria/Movie/2019/Terminator.Dark.Fate/Terminator.Dark.Fate.2019.720p.BluRay.x264.YIFY.DayMovie.mp4?key=116460_Q0wLm6KM7KIbbE5GRIN3FAlmt1579686197', 'screenshot_url': 'http://dl13.kingupload.org/user/Aria/Movie/2019/Terminator.Dark.Fate/Terminator.Dark.Fate.2019.720p.BluRay.x264.YIFY.DayMovie_s.jpg'}, {'quality': 'BluRay 720p x265', 'size': '971.53 MB', 'resolution': '1280x544', 'encoder': 'PSA', 'download_url': 'http://dl13.kingupload.org/user/Aria/Movie/2019/Terminator.Dark.Fate/Terminator.Dark.Fate.2019.720p.BrRip.2CH.x265.HEVC-PSA.DayMovie.mkv?key=116460_Ferl0MIotvIlyCBmjGzjVAlmt1579686197', 'screenshot_url': 'http://dl13.kingupload.org/user/Aria/Movie/2019/Terminator.Dark.Fate/Terminator.Dark.Fate.2019.720p.BrRip.2CH.x265.HEVC-PSA.DayMovie_s.jpg'}, {'quality': 'BluRay 720p x265', 'size': '740.89 MB', 'resolution': '1280x544', 'encoder': 'Pahe', 'download_url': 'http://dl13.kingupload.org/user/Aria/Movie/2019/Terminator.Dark.Fate/Terminator.Dark.Fate.2019.720p.BluRay.x265.HEVC-Pahe.DayMovie.mkv?key=116460_Chxiu1zyjTjQOYNaoxjXxwlmt1579686197', 'screenshot_url': 'http://dl13.kingupload.org/user/Aria/Movie/2019/Terminator.Dark.Fate/Terminator.Dark.Fate.2019.720p.BluRay.x265.HEVC-Pahe.DayMovie_s.jpg'}, {'quality': 'BluRay 480p', 'size': '496.29 MB', 'resolution': '848x480', 'encoder': 'DayMovie', 'download_url': 'http://dl13.kingupload.org/user/Aria/Movie/2019/Terminator.Dark.Fate/Terminator.Dark.Fate.2019.480p.BluRay.x264.DayMovie.mkv?key=116460_Q9mi2P1i7RhRA3CBAvMYlwlmt1579686197', 'screenshot_url': 'http://dl13.kingupload.org/user/Aria/Movie/2019/Terminator.Dark.Fate/Terminator.Dark.Fate.2019.480p.BluRay.x264.DayMovie_s.jpg'}, {'quality': 'BluRay 480p', 'size': '500.40 MB', 'resolution': '848x480', 'encoder': 'Pahe', 'download_url': 'http://dl13.kingupload.org/user/Aria/Movie/2019/Terminator.Dark.Fate/Terminator.Dark.Fate.2019.480p.BluRay.x264.Pahe.DayMovie.mkv?key=116460_UJGLjet940CveiQSEaqtbAlmt1579686197', 'screenshot_url': 'http://dl13.kingupload.org/user/Aria/Movie/2019/Terminator.Dark.Fate/Terminator.Dark.Fate.2019.480p.BluRay.x264.Pahe.DayMovie_s.jpg'}]}\n"
     ]
    }
   ],
   "source": [
    "## building movie_download_dict from movie page\n",
    "\n",
    "movie_download_dict = {\"Download Links\": []}\n",
    "\n",
    "items = soup_movie.find_all(class_=\"dlbox\")\n",
    "for item in items:\n",
    "    dldetails = str(item.find(class_=\"dldetails\"))\n",
    "    quality = re.search(\"کیفیت: <span>(.+?)</span>\", dldetails).group(1)\n",
    "    size = re.search(\"حجم : <span>(.+?)</span>\", dldetails).group(1).replace(\"گیگابایت\", \"GB\").replace(\"مگابایت\", \"MB\")\n",
    "    resolution = re.search(\"رزولوشن:  <span>(.+?)</span>\", dldetails).group(1)\n",
    "    encoder = re.search(\"انکودر:  <span>(.+?)</span>\", dldetails).group(1)\n",
    "    download_url = item.find(class_=\"dbtn\")[\"href\"]\n",
    "    screenshot_url = item.find(class_=\"pbtn\")[\"href\"]\n",
    "    this_item = {\n",
    "        \"quality\": quality,\n",
    "        \"size\": size,\n",
    "        \"resolution\": resolution,\n",
    "        \"encoder\": encoder,\n",
    "        \"download_url\": download_url,\n",
    "        \"screenshot_url\": screenshot_url\n",
    "    }\n",
    "    movie_download_dict[\"Download Links\"].append(this_item)\n",
    "    \n",
    "print(movie_download_dict)"
   ]
  },
  {
   "cell_type": "code",
   "execution_count": 61,
   "metadata": {
    "ExecuteTime": {
     "end_time": "2020-01-22T09:43:50.608194Z",
     "start_time": "2020-01-22T09:43:47.018983Z"
    }
   },
   "outputs": [],
   "source": [
    "url = \"http://1daymovie.org/tvshow/tt5753856\"\n",
    "\n",
    "response_tv = s.get(url)"
   ]
  },
  {
   "cell_type": "code",
   "execution_count": 62,
   "metadata": {
    "ExecuteTime": {
     "end_time": "2020-01-22T09:43:50.707096Z",
     "start_time": "2020-01-22T09:43:50.609644Z"
    }
   },
   "outputs": [],
   "source": [
    "soup_tv = BeautifulSoup(response_tv.text, 'html.parser')"
   ]
  },
  {
   "cell_type": "code",
   "execution_count": 63,
   "metadata": {
    "ExecuteTime": {
     "end_time": "2020-01-22T09:43:50.728027Z",
     "start_time": "2020-01-22T09:43:50.708272Z"
    }
   },
   "outputs": [
    {
     "name": "stdout",
     "output_type": "stream",
     "text": [
      "{'Season 01': [{'quality': '1080p x264 WEB-DL', 'size': '719 MB', 'href': 'http://1daymovie.org/files?id=28092&type=2'}, {'quality': '720p x264 WEB-DL', 'size': '387 MB', 'href': 'http://1daymovie.org/files?id=21814&type=2'}, {'quality': '720p x265 WEB-DL', 'size': '266 MB', 'href': 'http://1daymovie.org/files?id=21815&type=2'}, {'quality': '480p x264 WEB-DL', 'size': '195 MB', 'href': 'http://1daymovie.org/files?id=21813&type=2'}], 'Season 02': [{'quality': '1080p x264 WEB-DL', 'size': '848 MB', 'href': 'http://1daymovie.org/files?id=26473&type=2'}, {'quality': '720p x264 WEB-DL', 'size': '431 MB', 'href': 'http://1daymovie.org/files?id=26475&type=2'}, {'quality': '720p x265 WEB-DL', 'size': '259 MB', 'href': 'http://1daymovie.org/files?id=26476&type=2'}, {'quality': '480p x264 WEB-DL', 'size': '201 MB', 'href': 'http://1daymovie.org/files?id=26474&type=2'}]}\n"
     ]
    }
   ],
   "source": [
    "tv_download_page_dict = dict()\n",
    "\n",
    "items = soup_tv.find_all(class_=\"dlbox\")\n",
    "for item in items:\n",
    "    season = \"Season \" + re.search(\"فصل: <span>(.+?)</span>\", str(item.find(class_=\"dldetails\"))).group(1)\n",
    "    tv_download_page_dict[season] = []\n",
    "    content_items = item.find(class_=\"tvserieslinks\").find_all(\"li\", attrs={\"style\": \"position: relative\"})\n",
    "    for content_item in content_items:\n",
    "        quality = re.search(\"کیفیت: (.+?) </div>\", str(content_item.find(class_=\"qlty\"))).group(1)\n",
    "        href = \"http://1daymovie.org\" + content_item.find(class_=\"dbtn\")[\"href\"]\n",
    "        size = content_item.find(class_=\"dbtn\").find(\"i\").text.replace(\"M\", \" MB\")\n",
    "        this_content_item = {\n",
    "            \"quality\": quality,\n",
    "            \"size\": size,\n",
    "            \"href\": href,\n",
    "        }\n",
    "        tv_download_page_dict[season].append(this_content_item)\n",
    "    \n",
    "print(tv_download_page_dict)"
   ]
  },
  {
   "cell_type": "code",
   "execution_count": 64,
   "metadata": {
    "ExecuteTime": {
     "end_time": "2020-01-22T09:44:11.698712Z",
     "start_time": "2020-01-22T09:44:11.054824Z"
    }
   },
   "outputs": [],
   "source": [
    "url = \"http://1daymovie.org/files?id=21814&type=2\"\n",
    "\n",
    "response_tv_episodes = s.get(url)"
   ]
  },
  {
   "cell_type": "code",
   "execution_count": 65,
   "metadata": {
    "ExecuteTime": {
     "end_time": "2020-01-22T09:44:13.512478Z",
     "start_time": "2020-01-22T09:44:13.472909Z"
    }
   },
   "outputs": [],
   "source": [
    "soup_tv_episodes = BeautifulSoup(response_tv_episodes.text, 'html.parser')"
   ]
  },
  {
   "cell_type": "code",
   "execution_count": 66,
   "metadata": {
    "ExecuteTime": {
     "end_time": "2020-01-22T09:44:14.303488Z",
     "start_time": "2020-01-22T09:44:14.276620Z"
    }
   },
   "outputs": [
    {
     "name": "stdout",
     "output_type": "stream",
     "text": [
      "['http://dl2.kingupload.org/user/pejman/TV.Shows/Dark/S01/720p.x264/Dark.S01E01.720p.WEB-DL.x264.DayMovie.mkv?key=116460_99OaHGzid2bOYYM6BMiEpAlmt1579686251', 'http://dl2.kingupload.org/user/pejman/TV.Shows/Dark/S01/720p.x264/Dark.S01E02.720p.WEB-DL.x264.DayMovie.mkv?key=116460_jTM4slBtu3NWXCYMeCWTyQlmt1579686251', 'http://dl2.kingupload.org/user/pejman/TV.Shows/Dark/S01/720p.x264/Dark.S01E03.720p.WEB-DL.x264.DayMovie.mkv?key=116460_HMsKVpL2rtksSkggajOQWQlmt1579686251', 'http://dl2.kingupload.org/user/pejman/TV.Shows/Dark/S01/720p.x264/Dark.S01E04.720p.WEB-DL.x264.DayMovie.mkv?key=116460_s4YuQaenB91RdKjU0CJ9lAlmt1579686251', 'http://dl2.kingupload.org/user/pejman/TV.Shows/Dark/S01/720p.x264/Dark.S01E05.720p.WEB-DL.x264.DayMovie.mkv?key=116460_kpY3MW3C7nef0DzQK1YIxAlmt1579686251', 'http://dl2.kingupload.org/user/pejman/TV.Shows/Dark/S01/720p.x264/Dark.S01E06.720p.WEB-DL.x264.DayMovie.mkv?key=116460_HArXgczfMwe8HEtOA7yJ0Almt1579686251', 'http://dl2.kingupload.org/user/pejman/TV.Shows/Dark/S01/720p.x264/Dark.S01E07.720p.WEB-DL.x264.DayMovie.mkv?key=116460_eAypspo6UoKJZRzkT1jRCwlmt1579686251', 'http://dl2.kingupload.org/user/pejman/TV.Shows/Dark/S01/720p.x264/Dark.S01E08.720p.WEB-DL.x264.DayMovie.mkv?key=116460_hKayrDUqmhsbDCmG8DJscglmt1579686251', 'http://dl2.kingupload.org/user/pejman/TV.Shows/Dark/S01/720p.x264/Dark.S01E09.720p.WEB-DL.x264.DayMovie.mkv?key=116460_D1diysskOMuqBiJxOpDTrAlmt1579686251', 'http://dl2.kingupload.org/user/pejman/TV.Shows/Dark/S01/720p.x264/Dark.S01E10.720p.WEB-DL.x264.DayMovie.mkv?key=116460_6IGCM6rOgPTvX6yImlCoYwlmt1579686251']\n"
     ]
    }
   ],
   "source": [
    "items = soup_tv_episodes.find(class_=\"searchresults\").find_all(\"li\", attrs={\"style\": \"direction: ltr\"})\n",
    "tv_episodes_list = []\n",
    "for item in items:\n",
    "    tv_episodes_list.append(item.find(\"a\")[\"href\"])\n",
    "\n",
    "print(tv_episodes_list)"
   ]
  },
  {
   "cell_type": "code",
   "execution_count": null,
   "metadata": {
    "ExecuteTime": {
     "end_time": "2020-01-22T09:01:51.986168Z",
     "start_time": "2020-01-22T09:01:50.857433Z"
    }
   },
   "outputs": [],
   "source": []
  },
  {
   "cell_type": "code",
   "execution_count": null,
   "metadata": {
    "ExecuteTime": {
     "end_time": "2020-01-22T09:06:52.325533Z",
     "start_time": "2020-01-22T09:06:52.317373Z"
    }
   },
   "outputs": [],
   "source": []
  },
  {
   "cell_type": "code",
   "execution_count": null,
   "metadata": {},
   "outputs": [],
   "source": []
  }
 ],
 "metadata": {
  "kernelspec": {
   "display_name": "Python 3",
   "language": "python",
   "name": "python3"
  },
  "language_info": {
   "codemirror_mode": {
    "name": "ipython",
    "version": 3
   },
   "file_extension": ".py",
   "mimetype": "text/x-python",
   "name": "python",
   "nbconvert_exporter": "python",
   "pygments_lexer": "ipython3",
   "version": "3.6.7"
  }
 },
 "nbformat": 4,
 "nbformat_minor": 2
}
